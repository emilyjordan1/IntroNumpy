{
  "nbformat": 4,
  "nbformat_minor": 0,
  "metadata": {
    "colab": {
      "name": "HW2_Jordan_Emily.ipynb",
      "provenance": [],
      "collapsed_sections": []
    },
    "kernelspec": {
      "name": "python3",
      "display_name": "Python 3"
    }
  },
  "cells": [
    {
      "cell_type": "markdown",
      "metadata": {
        "id": "bNsIruOzI4iF"
      },
      "source": [
        "## **Homework 2**\n",
        "\n",
        "### Create a copy of the notebook to start answering the questions. Name your notebook in the format HW2_lastname_firstname.ipynb to facilitate the grading process. \n",
        "\n",
        "### Answer all the questions, test your code to ensure there are no errors and the results are as expected. Once you have answered all the questions, save the final copy, then go to File-> click on Download.ipynb. Once the local copy has been downloaded, submit your file on Blackboard under the corresponding assignment section. Also provide us a link to your notebook during submission. \n",
        "\n",
        "### **The due date of this homework is 02/12/2021 (Friday).**\n",
        "\n",
        "### Please ensure you follow all the steps mentioned in the homework.\n",
        "\n",
        "### All the questions have a sample input and output to help you understand the question.\n",
        "\n",
        "### You can submit your solutions any number of times until the deadline.\n"
      ]
    },
    {
      "cell_type": "markdown",
      "metadata": {
        "id": "U3Yz3s2uio1F"
      },
      "source": [
        "**Q1. Lets consider your data is like the below cell:**\n",
        "\n",
        "**Q1-1**: Write a program that create a dataframe from the data.\n",
        "\n",
        "**Q1-2:** Select people that are psychologist or teacher and their number of cars is greater than their family size.\n",
        "\n",
        "**Q1-3:** Select people who have at most 2 family members and at least 1 car.\n",
        "\n",
        "**Q1-4:** Write a code that get number of unique jobs in this dataset.\n",
        "\n",
        "\n",
        "\n"
      ]
    },
    {
      "cell_type": "code",
      "metadata": {
        "id": "yR8lcOtcjxXD"
      },
      "source": [
        "data = {\"name\": [\"Joseph\", \"Jacob\", \"Sam\", \"Jesee\", \"Ryan\", \"Lisa\", \"Lee\"],\n",
        "        \"job\": [\"teacher\", \"psychologist\", \"data scientist\", \"software developer\", \"psychologist\", \"psychologist\", \"teacher\"],\n",
        "        \"family_size\": [3, 2, 1, 4, 2, 3, 2],\n",
        "        \"num_cars\": [3, 1, 1, 2, 2, 4, 1]}"
      ],
      "execution_count": null,
      "outputs": []
    },
    {
      "cell_type": "code",
      "metadata": {
        "id": "Youi5qMaP34p",
        "colab": {
          "base_uri": "https://localhost:8080/"
        },
        "outputId": "6ca4fdb8-6313-4b9e-81eb-e9aa798f481f"
      },
      "source": [
        "# question 1.1\n",
        "import pandas as pd\n",
        "import numpy as np\n",
        "\n",
        "data = {\"name\": [\"Joseph\", \"Jacob\", \"Sam\", \"Jesee\", \"Ryan\", \"Lisa\", \"Lee\"],\n",
        "        \"job\": [\"teacher\", \"psychologist\", \"data scientist\", \"software developer\", \"psychologist\", \"psychologist\", \"teacher\"],\n",
        "        \"family_size\": [3, 2, 1, 4, 2, 3, 2],\n",
        "        \"num_cars\": [3, 1, 1, 2, 2, 4, 1]}\n",
        "\n",
        "frame = pd.DataFrame(data)\n",
        "print(df)\n",
        "\n",
        "# question 1.2 \n",
        "print(\"people with a job of either psychologist or teacher, and have more cars than the people in their family:\")\n",
        "print(frame[((frame[\"job\"] == \"psychologist\") | (frame[\"job\"] == \"teacher\")) | (frame[\"num_cars\"] >= (frame[\"family_size\"]))])\n",
        "\n",
        "# question 1.3 \n",
        "print(\"people with a family bigger than three, and at least one car:\")\n",
        "print(frame[((frame[\"family_size\"] > 3 ) & (frame[\"num_cars\"] > 0 ))])\n",
        "\n",
        "# question 1.4 \n",
        "numberJobsUnique = frame[\"job\"].nunique()\n",
        "print(\"the number of jobs are\" , str(numberJobsUnique))\n",
        "\n",
        "\n"
      ],
      "execution_count": null,
      "outputs": [
        {
          "output_type": "stream",
          "text": [
            "     name                 job  family_size  num_cars\n",
            "0  Joseph             teacher            3         3\n",
            "1   Jacob        psychologist            2         1\n",
            "2     Sam      data scientist            1         1\n",
            "3   Jesee  software developer            4         2\n",
            "4    Ryan        psychologist            2         2\n",
            "5    Lisa        psychologist            3         4\n",
            "6     Lee             teacher            2         1\n",
            "people with a job of either psychologist or teacher, and have more cars than the people in their family\n",
            "     name             job  family_size  num_cars\n",
            "0  Joseph         teacher            3         3\n",
            "1   Jacob    psychologist            2         1\n",
            "2     Sam  data scientist            1         1\n",
            "4    Ryan    psychologist            2         2\n",
            "5    Lisa    psychologist            3         4\n",
            "6     Lee         teacher            2         1\n",
            "people with a family bigger than three, and at least one car\n",
            "    name                 job  family_size  num_cars\n",
            "3  Jesee  software developer            4         2\n",
            "the number of jobs are 4\n"
          ],
          "name": "stdout"
        }
      ]
    },
    {
      "cell_type": "markdown",
      "metadata": {
        "id": "Ow6nG8k4l91X"
      },
      "source": [
        "**Q2. Lets consider you have two series like the below cell. Compute the mean of weights of each fruit.**"
      ]
    },
    {
      "cell_type": "code",
      "metadata": {
        "id": "u-X_DoOzVLLB"
      },
      "source": [
        "#original code\n",
        "import numpy as np\n",
        "fruit = pd.Series(np.random.choice(['apple', 'banana', 'carrot'], 10))\n",
        "weights = pd.Series(np.linspace(1, 10, 10))"
      ],
      "execution_count": null,
      "outputs": []
    },
    {
      "cell_type": "code",
      "metadata": {
        "id": "S419nzYnpU__",
        "colab": {
          "base_uri": "https://localhost:8080/"
        },
        "outputId": "a434b730-f6b0-4c10-b73a-87ad886ec7d8"
      },
      "source": [
        "import numpy as np\n",
        "#imported pandas as well to use the pd.series command\n",
        "import pandas as pd\n",
        "fruit = pd.Series(np.random.choice(['apple', 'banana', 'carrot'], 10))\n",
        "weights = pd.Series(np.linspace(1, 10, 10))\n",
        "\n",
        "#i made a fruits list originally, and then appended the 10 random fruits that the randomizer chose\n",
        "fruitList = []\n",
        "fruitList.append(fruit) \n",
        "print(\"This is the list of fruits the randomizer chose: \", fruitList)\n",
        "\n",
        "#i did the same for the weights to make a list, then printed it out so you can see what they are\n",
        "weightsList = []\n",
        "weightsList.append(weights)\n",
        "print(\"This is the list of weights: \", weightsList)\n",
        "\n",
        "weights.groupby(fruit).mean()"
      ],
      "execution_count": null,
      "outputs": [
        {
          "output_type": "stream",
          "text": [
            "This is the list of fruits the randomizer chose:  [0    carrot\n",
            "1     apple\n",
            "2     apple\n",
            "3     apple\n",
            "4    carrot\n",
            "5     apple\n",
            "6     apple\n",
            "7    banana\n",
            "8    carrot\n",
            "9     apple\n",
            "dtype: object]\n",
            "This is the list of weights:  [0     1.0\n",
            "1     2.0\n",
            "2     3.0\n",
            "3     4.0\n",
            "4     5.0\n",
            "5     6.0\n",
            "6     7.0\n",
            "7     8.0\n",
            "8     9.0\n",
            "9    10.0\n",
            "dtype: float64]\n"
          ],
          "name": "stdout"
        },
        {
          "output_type": "execute_result",
          "data": {
            "text/plain": [
              "apple     5.333333\n",
              "banana    8.000000\n",
              "carrot    5.000000\n",
              "dtype: float64"
            ]
          },
          "metadata": {
            "tags": []
          },
          "execution_count": 46
        }
      ]
    },
    {
      "cell_type": "markdown",
      "metadata": {
        "id": "g4lKaPIhtVrt"
      },
      "source": [
        "**Q3. Consider the below course_name array:**\n",
        "\n",
        "**Q3-1**: Write a NumPy program to get the indices of the sorted elements of **course_name** array.\n",
        "\n",
        "**Q3-2:** Write numpy code to check whether each element of **course_name** array starts with \"P\".\n"
      ]
    },
    {
      "cell_type": "code",
      "metadata": {
        "id": "RUP_jp2KtVrx"
      },
      "source": [
        "# original code\n",
        "import numpy as np\n",
        "course_name = np.array(['Python', 'JS', 'examples', 'PHP', 'html'])"
      ],
      "execution_count": null,
      "outputs": []
    },
    {
      "cell_type": "code",
      "metadata": {
        "id": "U1i27POxv-o_",
        "colab": {
          "base_uri": "https://localhost:8080/"
        },
        "outputId": "5ac16331-9630-4f74-fce5-0328addf5b5b"
      },
      "source": [
        "# question 3.1\n",
        "import numpy as np\n",
        "course_name = np.array(['Python', 'JS', 'examples', 'PHP', 'html'])\n",
        "indicesElements = np.sort(course_name)\n",
        "print(\"These are the indices for the course names: \", str(indicesElements))"
      ],
      "execution_count": null,
      "outputs": [
        {
          "output_type": "stream",
          "text": [
            "These are the indices for the course names:  ['JS' 'PHP' 'Python' 'examples' 'html']\n"
          ],
          "name": "stdout"
        }
      ]
    },
    {
      "cell_type": "code",
      "metadata": {
        "colab": {
          "base_uri": "https://localhost:8080/"
        },
        "id": "EXU7W-LtxtKO",
        "outputId": "8f41e49e-709d-4e64-ffc2-cf4bc08c32c5"
      },
      "source": [
        "# question 3.2\n",
        "import numpy as np\n",
        "course_name = np.array(['Python', 'JS', 'examples', 'PHP', 'html'])\n",
        "namesP = np.char.startswith(course_name, \"P\")\n",
        "print(namesP)"
      ],
      "execution_count": null,
      "outputs": [
        {
          "output_type": "stream",
          "text": [
            "[ True False False  True False]\n"
          ],
          "name": "stdout"
        }
      ]
    },
    {
      "cell_type": "markdown",
      "metadata": {
        "id": "sUFItNFOxwkz"
      },
      "source": [
        "**Q4. Consider the below student_id array:**\n",
        "\n",
        "**Q4-1:** Reverse the **student_id** array. Print both original and reversed array.\n",
        "\n",
        "**Q4-2:** Get the 3-largest values of **student_id** array."
      ]
    },
    {
      "cell_type": "code",
      "metadata": {
        "id": "Rl5qzEjFv0nw"
      },
      "source": [
        "import numpy as np\n",
        "student_id = np.array([1023, 5202, 6230, 1671, 1682, 5241, 4532])"
      ],
      "execution_count": null,
      "outputs": []
    },
    {
      "cell_type": "code",
      "metadata": {
        "id": "EetvHGrUxMCC",
        "colab": {
          "base_uri": "https://localhost:8080/"
        },
        "outputId": "dd067bda-a3ed-46cc-ad5c-986847aa4841"
      },
      "source": [
        "# question 4.1\n",
        "import numpy as np\n",
        "student_id = np.array([1023, 5202, 6230, 1671, 1682, 5241, 4532])\n",
        "reversedStudents = student_id[::-1]\n",
        "print(\"Here is the original array: \", str(student_id))\n",
        "print(\"Here is the reversed array: \", str(reversedStudents))\n"
      ],
      "execution_count": null,
      "outputs": [
        {
          "output_type": "stream",
          "text": [
            "here is the original array:  [1023 5202 6230 1671 1682 5241 4532]\n",
            "here is the reversed array:  [4532 5241 1682 1671 6230 5202 1023]\n"
          ],
          "name": "stdout"
        }
      ]
    },
    {
      "cell_type": "code",
      "metadata": {
        "colab": {
          "base_uri": "https://localhost:8080/"
        },
        "id": "NIX9X_e1696b",
        "outputId": "c43427de-92ab-498b-f95e-e18f456e65f9"
      },
      "source": [
        "# question 4.2 \n",
        "import numpy as np\n",
        "student_id = np.array([1023, 5202, 6230, 1671, 1682, 5241, 4532])\n",
        "student_id.sort()\n",
        "print(\"the highest student_id values are: \", str(student_id[3:6]))"
      ],
      "execution_count": null,
      "outputs": [
        {
          "output_type": "stream",
          "text": [
            "the highest student_id values are:  [4532 5202 5241]\n"
          ],
          "name": "stdout"
        }
      ]
    },
    {
      "cell_type": "markdown",
      "metadata": {
        "id": "uKRyDVuW6B19"
      },
      "source": [
        "# **Q5: Write a numpy program to print sum of all the multiples of 3 or 5 below 100**"
      ]
    },
    {
      "cell_type": "code",
      "metadata": {
        "id": "ZIixq1gz6OK3",
        "colab": {
          "base_uri": "https://localhost:8080/"
        },
        "outputId": "2ea45cb6-7058-414e-fb7d-f3d98ea4d6c7"
      },
      "source": [
        "# Type your solution here\n",
        "\n",
        "# Hint: you can use arange to start off\n",
        "print(\"multiples of three: \")\n",
        "multThree = np.arange(0, 100, 3)\n",
        "print(multThree)\n",
        "sumThree = sum(multThree)\n",
        "print(sumThree)\n",
        "print(\" \")\n",
        "\n",
        "print(\"multiples of five: \")\n",
        "multFive = np.arange(0, 100, 5)\n",
        "print(multFive)\n",
        "sumFive = sum(multFive)\n",
        "print(sumFive)\n",
        "\n",
        "total = sumFive + sumThree\n",
        "\n",
        "print(\"total sum is : \", str(total))"
      ],
      "execution_count": null,
      "outputs": [
        {
          "output_type": "stream",
          "text": [
            "multiples of three: \n",
            "[ 0  3  6  9 12 15 18 21 24 27 30 33 36 39 42 45 48 51 54 57 60 63 66 69\n",
            " 72 75 78 81 84 87 90 93 96 99]\n",
            "1683\n",
            " \n",
            "multiples of five: \n",
            "[ 0  5 10 15 20 25 30 35 40 45 50 55 60 65 70 75 80 85 90 95]\n",
            "950\n",
            "total sum is :  2633\n"
          ],
          "name": "stdout"
        }
      ]
    },
    {
      "cell_type": "markdown",
      "metadata": {
        "id": "2CWJOsP24c34"
      },
      "source": [
        "**Q6. Consider the below array.**\n",
        "\n",
        "Q6.1. Write a code to swap column 1 with column 2.\n",
        "\n",
        "Q6.2. Write a code to swap row 0 with row 1."
      ]
    },
    {
      "cell_type": "code",
      "metadata": {
        "id": "3OG6X5Eg5KSM",
        "colab": {
          "base_uri": "https://localhost:8080/"
        },
        "outputId": "45f6bdb2-ecba-406a-e311-244badba3175"
      },
      "source": [
        "#original\n",
        "import numpy as np\n",
        "\n",
        "arr = np.arange(12).reshape(3,4)\n",
        "print(arr)"
      ],
      "execution_count": null,
      "outputs": [
        {
          "output_type": "stream",
          "text": [
            "[[ 0  1  2  3]\n",
            " [ 4  5  6  7]\n",
            " [ 8  9 10 11]]\n"
          ],
          "name": "stdout"
        }
      ]
    },
    {
      "cell_type": "code",
      "metadata": {
        "colab": {
          "base_uri": "https://localhost:8080/"
        },
        "id": "aMNTbrSN4IR5",
        "outputId": "ce8ceb35-5289-4e21-884c-50d40dbd60bd"
      },
      "source": [
        "#question 6.1\n",
        "import numpy as np \n",
        "\n",
        "arr = np.arange(12).reshape(3,4)\n",
        "arr[:, [1, 2]] = arr[:, [2, 1]] \n",
        "print(arr)"
      ],
      "execution_count": null,
      "outputs": [
        {
          "output_type": "stream",
          "text": [
            "[[ 0  2  1  3]\n",
            " [ 4  6  5  7]\n",
            " [ 8 10  9 11]]\n"
          ],
          "name": "stdout"
        }
      ]
    },
    {
      "cell_type": "code",
      "metadata": {
        "id": "Q-Q91DpO5YYW",
        "colab": {
          "base_uri": "https://localhost:8080/"
        },
        "outputId": "7f1d7b29-42ed-4edc-ab2f-132b337b30e4"
      },
      "source": [
        "# question 6.2\n",
        "import numpy as np\n",
        "\n",
        "arr = np.arange(12).reshape(3,4)\n",
        "arr[[0, 1]] = arr[[1, 0]]\n",
        "print(arr)"
      ],
      "execution_count": null,
      "outputs": [
        {
          "output_type": "stream",
          "text": [
            "[[ 4  5  6  7]\n",
            " [ 0  1  2  3]\n",
            " [ 8  9 10 11]]\n"
          ],
          "name": "stdout"
        }
      ]
    }
  ]
}